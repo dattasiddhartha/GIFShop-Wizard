{
 "cells": [
  {
   "cell_type": "code",
   "execution_count": 7,
   "metadata": {},
   "outputs": [
    {
     "data": {
      "text/plain": [
       "CompletedProcess(args='python ./cycle_gan/test.py --dataroot ./cycle_gan/datasets/apple2orange --name apple2orange --model test --no_dropout', returncode=0)"
      ]
     },
     "execution_count": 7,
     "metadata": {},
     "output_type": "execute_result"
    }
   ],
   "source": [
    "# import sys\n",
    "# sys.argv = ['--dataroot ./cycle_gan/datasets/apple2orange', '--name apple2orange', '--model test', '--no_dropout']\n",
    "# execfile('./cycle_gan/test.py')\n",
    "\n",
    "import subprocess\n",
    "subprocess.run(\"python ./cycle_gan/test.py --dataroot ./cycle_gan/datasets/apple2orange --name apple2orange --model test --no_dropout\")"
   ]
  },
  {
   "cell_type": "code",
   "execution_count": 2,
   "metadata": {
    "scrolled": true
   },
   "outputs": [
    {
     "name": "stdout",
     "output_type": "stream",
     "text": [
      "----------------- Options ---------------\n",
      "             aspect_ratio: 1.0                           \n",
      "               batch_size: 1                             \n",
      "          checkpoints_dir: ./cycle_gan/checkpoints       \n",
      "                crop_size: 256                           \n",
      "                 dataroot: ./cycle_gan/datasets/apple2orange\t[default: None]\n",
      "             dataset_mode: single                        \n",
      "                direction: AtoB                          \n",
      "          display_winsize: 256                           \n",
      "                    epoch: latest                        \n",
      "                     eval: False                         \n",
      "                  gpu_ids: 0                             \n",
      "                init_gain: 0.02                          \n",
      "                init_type: normal                        \n",
      "                 input_nc: 3                             \n",
      "                  isTrain: False                         \t[default: None]\n",
      "                load_iter: 0                             \t[default: 0]\n",
      "                load_size: 256                           \n",
      "         max_dataset_size: inf                           \n",
      "                    model: test                          \n",
      "             model_suffix:                               \n",
      "               n_layers_D: 3                             \n",
      "                     name: apple2orange                  \t[default: experiment_name]\n",
      "                      ndf: 64                            \n",
      "                     netD: basic                         \n",
      "                     netG: resnet_9blocks                \n",
      "                      ngf: 64                            \n",
      "               no_dropout: True                          \t[default: False]\n",
      "                  no_flip: False                         \n",
      "                     norm: instance                      \n",
      "                 num_test: 50                            \n",
      "              num_threads: 4                             \n",
      "                output_nc: 3                             \n",
      "                    phase: test                          \n",
      "               preprocess: resize_and_crop               \n",
      "              results_dir: ./cycle_gan/results/          \n",
      "           serial_batches: False                         \n",
      "                   suffix:                               \n",
      "                  verbose: False                         \n",
      "----------------- End -------------------\n",
      "dataset [SingleDataset] was created\n",
      "initialize network with normal\n",
      "model [TestModel] was created\n",
      "loading the model from ./cycle_gan/checkpoints\\apple2orange\\latest_net_G.pth\n",
      "---------- Networks initialized -------------\n",
      "[Network G] Total number of parameters : 11.378 M\n",
      "-----------------------------------------------\n",
      "creating web directory ./cycle_gan/results/apple2orange\\test_latest\n",
      "processing (0000)-th image... ['./cycle_gan/datasets/apple2orange\\\\apples.jpg']\n"
     ]
    }
   ],
   "source": [
    "# !python ./cycle_gan/test.py --dataroot ./cycle_gan/datasets/apple2orange --name apple2orange --model test --no_dropout\n",
    "# from cyclegan import run\n",
    "# run()\n",
    "\n",
    "!python ./cycle_gan/test.py --dataroot ./cycle_gan/datasets/apple2orange --name apple2orange --model test --no_dropout"
   ]
  },
  {
   "cell_type": "code",
   "execution_count": null,
   "metadata": {},
   "outputs": [],
   "source": [
    "!python test.py --dataroot datasets/apple2orange --name apple2orange --model test --no_dropout\n",
    "\n",
    "!python test.py --dataroot datasets/horse2zebra --name horse2zebra --model test --no_dropout\n",
    "\n",
    "!python test.py --dataroot datasets/style_monet --name style_monet --model test --no_dropout\n",
    "\n",
    "!python test.py --dataroot datasets/style_vangogh --name style_vangogh --model test --no_dropout\n",
    "\n",
    "!python test.py --dataroot datasets/summer2winter_yosemite --name summer2winter_yosemite --model test --no_dropout\n",
    "\n"
   ]
  },
  {
   "cell_type": "code",
   "execution_count": null,
   "metadata": {},
   "outputs": [],
   "source": []
  }
 ],
 "metadata": {
  "kernelspec": {
   "display_name": "Python [conda env:tf_gpu]",
   "language": "python",
   "name": "conda-env-tf_gpu-py"
  },
  "language_info": {
   "codemirror_mode": {
    "name": "ipython",
    "version": 3
   },
   "file_extension": ".py",
   "mimetype": "text/x-python",
   "name": "python",
   "nbconvert_exporter": "python",
   "pygments_lexer": "ipython3",
   "version": "3.7.7"
  }
 },
 "nbformat": 4,
 "nbformat_minor": 2
}
